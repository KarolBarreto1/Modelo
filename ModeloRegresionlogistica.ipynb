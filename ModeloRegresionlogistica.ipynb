{
 "cells": [
  {
   "cell_type": "code",
   "execution_count": 1,
   "id": "cd90c229-04db-4638-9f4e-dd1d75481b75",
   "metadata": {},
   "outputs": [],
   "source": [
    "import pandas as pd\n",
    "import numpy as np\n",
    "import seaborn as sns\n",
    "import matplotlib.pyplot as plt\n",
    "\n",
    "from sklearn import metrics\n",
    "from sklearn.model_selection import train_test_split\n",
    "from sklearn.linear_model import LogisticRegression\n",
    "from sklearn.metrics import classification_report, confusion_matrix"
   ]
  },
  {
   "cell_type": "code",
   "execution_count": 3,
   "id": "2a60e2c5-aa30-40f0-b9b5-7181d831c29a",
   "metadata": {},
   "outputs": [],
   "source": [
    "#lectura y cargue de datos\n",
    "Database = pd.read_csv('C:/Users/ASUS/OneDrive - Universidad Nacional Abierta y a Distancia/Escritorio/heart_cleveland_upload.csv')"
   ]
  },
  {
   "cell_type": "code",
   "execution_count": 5,
   "id": "aa56e355-9053-418f-9522-b47086589344",
   "metadata": {},
   "outputs": [
    {
     "data": {
      "text/html": [
       "<div>\n",
       "<style scoped>\n",
       "    .dataframe tbody tr th:only-of-type {\n",
       "        vertical-align: middle;\n",
       "    }\n",
       "\n",
       "    .dataframe tbody tr th {\n",
       "        vertical-align: top;\n",
       "    }\n",
       "\n",
       "    .dataframe thead th {\n",
       "        text-align: right;\n",
       "    }\n",
       "</style>\n",
       "<table border=\"1\" class=\"dataframe\">\n",
       "  <thead>\n",
       "    <tr style=\"text-align: right;\">\n",
       "      <th></th>\n",
       "      <th>age</th>\n",
       "      <th>sex</th>\n",
       "      <th>cp</th>\n",
       "      <th>trestbps</th>\n",
       "      <th>chol</th>\n",
       "      <th>fbs</th>\n",
       "      <th>restecg</th>\n",
       "      <th>thalach</th>\n",
       "      <th>exang</th>\n",
       "      <th>oldpeak</th>\n",
       "      <th>slope</th>\n",
       "      <th>ca</th>\n",
       "      <th>thal</th>\n",
       "      <th>condition</th>\n",
       "    </tr>\n",
       "  </thead>\n",
       "  <tbody>\n",
       "    <tr>\n",
       "      <th>0</th>\n",
       "      <td>69</td>\n",
       "      <td>1</td>\n",
       "      <td>0</td>\n",
       "      <td>160</td>\n",
       "      <td>234</td>\n",
       "      <td>1</td>\n",
       "      <td>2</td>\n",
       "      <td>131</td>\n",
       "      <td>0</td>\n",
       "      <td>0.1</td>\n",
       "      <td>1</td>\n",
       "      <td>1</td>\n",
       "      <td>0</td>\n",
       "      <td>0</td>\n",
       "    </tr>\n",
       "    <tr>\n",
       "      <th>1</th>\n",
       "      <td>69</td>\n",
       "      <td>0</td>\n",
       "      <td>0</td>\n",
       "      <td>140</td>\n",
       "      <td>239</td>\n",
       "      <td>0</td>\n",
       "      <td>0</td>\n",
       "      <td>151</td>\n",
       "      <td>0</td>\n",
       "      <td>1.8</td>\n",
       "      <td>0</td>\n",
       "      <td>2</td>\n",
       "      <td>0</td>\n",
       "      <td>0</td>\n",
       "    </tr>\n",
       "    <tr>\n",
       "      <th>2</th>\n",
       "      <td>66</td>\n",
       "      <td>0</td>\n",
       "      <td>0</td>\n",
       "      <td>150</td>\n",
       "      <td>226</td>\n",
       "      <td>0</td>\n",
       "      <td>0</td>\n",
       "      <td>114</td>\n",
       "      <td>0</td>\n",
       "      <td>2.6</td>\n",
       "      <td>2</td>\n",
       "      <td>0</td>\n",
       "      <td>0</td>\n",
       "      <td>0</td>\n",
       "    </tr>\n",
       "    <tr>\n",
       "      <th>3</th>\n",
       "      <td>65</td>\n",
       "      <td>1</td>\n",
       "      <td>0</td>\n",
       "      <td>138</td>\n",
       "      <td>282</td>\n",
       "      <td>1</td>\n",
       "      <td>2</td>\n",
       "      <td>174</td>\n",
       "      <td>0</td>\n",
       "      <td>1.4</td>\n",
       "      <td>1</td>\n",
       "      <td>1</td>\n",
       "      <td>0</td>\n",
       "      <td>1</td>\n",
       "    </tr>\n",
       "    <tr>\n",
       "      <th>4</th>\n",
       "      <td>64</td>\n",
       "      <td>1</td>\n",
       "      <td>0</td>\n",
       "      <td>110</td>\n",
       "      <td>211</td>\n",
       "      <td>0</td>\n",
       "      <td>2</td>\n",
       "      <td>144</td>\n",
       "      <td>1</td>\n",
       "      <td>1.8</td>\n",
       "      <td>1</td>\n",
       "      <td>0</td>\n",
       "      <td>0</td>\n",
       "      <td>0</td>\n",
       "    </tr>\n",
       "    <tr>\n",
       "      <th>5</th>\n",
       "      <td>64</td>\n",
       "      <td>1</td>\n",
       "      <td>0</td>\n",
       "      <td>170</td>\n",
       "      <td>227</td>\n",
       "      <td>0</td>\n",
       "      <td>2</td>\n",
       "      <td>155</td>\n",
       "      <td>0</td>\n",
       "      <td>0.6</td>\n",
       "      <td>1</td>\n",
       "      <td>0</td>\n",
       "      <td>2</td>\n",
       "      <td>0</td>\n",
       "    </tr>\n",
       "    <tr>\n",
       "      <th>6</th>\n",
       "      <td>63</td>\n",
       "      <td>1</td>\n",
       "      <td>0</td>\n",
       "      <td>145</td>\n",
       "      <td>233</td>\n",
       "      <td>1</td>\n",
       "      <td>2</td>\n",
       "      <td>150</td>\n",
       "      <td>0</td>\n",
       "      <td>2.3</td>\n",
       "      <td>2</td>\n",
       "      <td>0</td>\n",
       "      <td>1</td>\n",
       "      <td>0</td>\n",
       "    </tr>\n",
       "    <tr>\n",
       "      <th>7</th>\n",
       "      <td>61</td>\n",
       "      <td>1</td>\n",
       "      <td>0</td>\n",
       "      <td>134</td>\n",
       "      <td>234</td>\n",
       "      <td>0</td>\n",
       "      <td>0</td>\n",
       "      <td>145</td>\n",
       "      <td>0</td>\n",
       "      <td>2.6</td>\n",
       "      <td>1</td>\n",
       "      <td>2</td>\n",
       "      <td>0</td>\n",
       "      <td>1</td>\n",
       "    </tr>\n",
       "    <tr>\n",
       "      <th>8</th>\n",
       "      <td>60</td>\n",
       "      <td>0</td>\n",
       "      <td>0</td>\n",
       "      <td>150</td>\n",
       "      <td>240</td>\n",
       "      <td>0</td>\n",
       "      <td>0</td>\n",
       "      <td>171</td>\n",
       "      <td>0</td>\n",
       "      <td>0.9</td>\n",
       "      <td>0</td>\n",
       "      <td>0</td>\n",
       "      <td>0</td>\n",
       "      <td>0</td>\n",
       "    </tr>\n",
       "    <tr>\n",
       "      <th>9</th>\n",
       "      <td>59</td>\n",
       "      <td>1</td>\n",
       "      <td>0</td>\n",
       "      <td>178</td>\n",
       "      <td>270</td>\n",
       "      <td>0</td>\n",
       "      <td>2</td>\n",
       "      <td>145</td>\n",
       "      <td>0</td>\n",
       "      <td>4.2</td>\n",
       "      <td>2</td>\n",
       "      <td>0</td>\n",
       "      <td>2</td>\n",
       "      <td>0</td>\n",
       "    </tr>\n",
       "    <tr>\n",
       "      <th>10</th>\n",
       "      <td>59</td>\n",
       "      <td>1</td>\n",
       "      <td>0</td>\n",
       "      <td>170</td>\n",
       "      <td>288</td>\n",
       "      <td>0</td>\n",
       "      <td>2</td>\n",
       "      <td>159</td>\n",
       "      <td>0</td>\n",
       "      <td>0.2</td>\n",
       "      <td>1</td>\n",
       "      <td>0</td>\n",
       "      <td>2</td>\n",
       "      <td>1</td>\n",
       "    </tr>\n",
       "    <tr>\n",
       "      <th>11</th>\n",
       "      <td>59</td>\n",
       "      <td>1</td>\n",
       "      <td>0</td>\n",
       "      <td>160</td>\n",
       "      <td>273</td>\n",
       "      <td>0</td>\n",
       "      <td>2</td>\n",
       "      <td>125</td>\n",
       "      <td>0</td>\n",
       "      <td>0.0</td>\n",
       "      <td>0</td>\n",
       "      <td>0</td>\n",
       "      <td>0</td>\n",
       "      <td>1</td>\n",
       "    </tr>\n",
       "    <tr>\n",
       "      <th>12</th>\n",
       "      <td>59</td>\n",
       "      <td>1</td>\n",
       "      <td>0</td>\n",
       "      <td>134</td>\n",
       "      <td>204</td>\n",
       "      <td>0</td>\n",
       "      <td>0</td>\n",
       "      <td>162</td>\n",
       "      <td>0</td>\n",
       "      <td>0.8</td>\n",
       "      <td>0</td>\n",
       "      <td>2</td>\n",
       "      <td>0</td>\n",
       "      <td>1</td>\n",
       "    </tr>\n",
       "    <tr>\n",
       "      <th>13</th>\n",
       "      <td>58</td>\n",
       "      <td>0</td>\n",
       "      <td>0</td>\n",
       "      <td>150</td>\n",
       "      <td>283</td>\n",
       "      <td>1</td>\n",
       "      <td>2</td>\n",
       "      <td>162</td>\n",
       "      <td>0</td>\n",
       "      <td>1.0</td>\n",
       "      <td>0</td>\n",
       "      <td>0</td>\n",
       "      <td>0</td>\n",
       "      <td>0</td>\n",
       "    </tr>\n",
       "    <tr>\n",
       "      <th>14</th>\n",
       "      <td>56</td>\n",
       "      <td>1</td>\n",
       "      <td>0</td>\n",
       "      <td>120</td>\n",
       "      <td>193</td>\n",
       "      <td>0</td>\n",
       "      <td>2</td>\n",
       "      <td>162</td>\n",
       "      <td>0</td>\n",
       "      <td>1.9</td>\n",
       "      <td>1</td>\n",
       "      <td>0</td>\n",
       "      <td>2</td>\n",
       "      <td>0</td>\n",
       "    </tr>\n",
       "  </tbody>\n",
       "</table>\n",
       "</div>"
      ],
      "text/plain": [
       "    age  sex  cp  trestbps  chol  fbs  restecg  thalach  exang  oldpeak  \\\n",
       "0    69    1   0       160   234    1        2      131      0      0.1   \n",
       "1    69    0   0       140   239    0        0      151      0      1.8   \n",
       "2    66    0   0       150   226    0        0      114      0      2.6   \n",
       "3    65    1   0       138   282    1        2      174      0      1.4   \n",
       "4    64    1   0       110   211    0        2      144      1      1.8   \n",
       "5    64    1   0       170   227    0        2      155      0      0.6   \n",
       "6    63    1   0       145   233    1        2      150      0      2.3   \n",
       "7    61    1   0       134   234    0        0      145      0      2.6   \n",
       "8    60    0   0       150   240    0        0      171      0      0.9   \n",
       "9    59    1   0       178   270    0        2      145      0      4.2   \n",
       "10   59    1   0       170   288    0        2      159      0      0.2   \n",
       "11   59    1   0       160   273    0        2      125      0      0.0   \n",
       "12   59    1   0       134   204    0        0      162      0      0.8   \n",
       "13   58    0   0       150   283    1        2      162      0      1.0   \n",
       "14   56    1   0       120   193    0        2      162      0      1.9   \n",
       "\n",
       "    slope  ca  thal  condition  \n",
       "0       1   1     0          0  \n",
       "1       0   2     0          0  \n",
       "2       2   0     0          0  \n",
       "3       1   1     0          1  \n",
       "4       1   0     0          0  \n",
       "5       1   0     2          0  \n",
       "6       2   0     1          0  \n",
       "7       1   2     0          1  \n",
       "8       0   0     0          0  \n",
       "9       2   0     2          0  \n",
       "10      1   0     2          1  \n",
       "11      0   0     0          1  \n",
       "12      0   2     0          1  \n",
       "13      0   0     0          0  \n",
       "14      1   0     2          0  "
      ]
     },
     "execution_count": 5,
     "metadata": {},
     "output_type": "execute_result"
    }
   ],
   "source": [
    "#Lectura de datos\n",
    "Database.head(15)"
   ]
  },
  {
   "cell_type": "code",
   "execution_count": 7,
   "id": "954e74ae-396c-45ce-9d57-3fbddbf186cb",
   "metadata": {},
   "outputs": [
    {
     "data": {
      "text/html": [
       "<div>\n",
       "<style scoped>\n",
       "    .dataframe tbody tr th:only-of-type {\n",
       "        vertical-align: middle;\n",
       "    }\n",
       "\n",
       "    .dataframe tbody tr th {\n",
       "        vertical-align: top;\n",
       "    }\n",
       "\n",
       "    .dataframe thead th {\n",
       "        text-align: right;\n",
       "    }\n",
       "</style>\n",
       "<table border=\"1\" class=\"dataframe\">\n",
       "  <thead>\n",
       "    <tr style=\"text-align: right;\">\n",
       "      <th></th>\n",
       "      <th>age</th>\n",
       "      <th>sex</th>\n",
       "      <th>cp</th>\n",
       "      <th>trestbps</th>\n",
       "      <th>chol</th>\n",
       "      <th>fbs</th>\n",
       "      <th>restecg</th>\n",
       "      <th>thalach</th>\n",
       "      <th>exang</th>\n",
       "      <th>oldpeak</th>\n",
       "      <th>slope</th>\n",
       "      <th>ca</th>\n",
       "      <th>thal</th>\n",
       "      <th>condition</th>\n",
       "    </tr>\n",
       "  </thead>\n",
       "  <tbody>\n",
       "    <tr>\n",
       "      <th>count</th>\n",
       "      <td>297.000000</td>\n",
       "      <td>297.000000</td>\n",
       "      <td>297.000000</td>\n",
       "      <td>297.000000</td>\n",
       "      <td>297.000000</td>\n",
       "      <td>297.000000</td>\n",
       "      <td>297.000000</td>\n",
       "      <td>297.000000</td>\n",
       "      <td>297.000000</td>\n",
       "      <td>297.000000</td>\n",
       "      <td>297.000000</td>\n",
       "      <td>297.000000</td>\n",
       "      <td>297.000000</td>\n",
       "      <td>297.000000</td>\n",
       "    </tr>\n",
       "    <tr>\n",
       "      <th>mean</th>\n",
       "      <td>54.542088</td>\n",
       "      <td>0.676768</td>\n",
       "      <td>2.158249</td>\n",
       "      <td>131.693603</td>\n",
       "      <td>247.350168</td>\n",
       "      <td>0.144781</td>\n",
       "      <td>0.996633</td>\n",
       "      <td>149.599327</td>\n",
       "      <td>0.326599</td>\n",
       "      <td>1.055556</td>\n",
       "      <td>0.602694</td>\n",
       "      <td>0.676768</td>\n",
       "      <td>0.835017</td>\n",
       "      <td>0.461279</td>\n",
       "    </tr>\n",
       "    <tr>\n",
       "      <th>std</th>\n",
       "      <td>9.049736</td>\n",
       "      <td>0.468500</td>\n",
       "      <td>0.964859</td>\n",
       "      <td>17.762806</td>\n",
       "      <td>51.997583</td>\n",
       "      <td>0.352474</td>\n",
       "      <td>0.994914</td>\n",
       "      <td>22.941562</td>\n",
       "      <td>0.469761</td>\n",
       "      <td>1.166123</td>\n",
       "      <td>0.618187</td>\n",
       "      <td>0.938965</td>\n",
       "      <td>0.956690</td>\n",
       "      <td>0.499340</td>\n",
       "    </tr>\n",
       "    <tr>\n",
       "      <th>min</th>\n",
       "      <td>29.000000</td>\n",
       "      <td>0.000000</td>\n",
       "      <td>0.000000</td>\n",
       "      <td>94.000000</td>\n",
       "      <td>126.000000</td>\n",
       "      <td>0.000000</td>\n",
       "      <td>0.000000</td>\n",
       "      <td>71.000000</td>\n",
       "      <td>0.000000</td>\n",
       "      <td>0.000000</td>\n",
       "      <td>0.000000</td>\n",
       "      <td>0.000000</td>\n",
       "      <td>0.000000</td>\n",
       "      <td>0.000000</td>\n",
       "    </tr>\n",
       "    <tr>\n",
       "      <th>25%</th>\n",
       "      <td>48.000000</td>\n",
       "      <td>0.000000</td>\n",
       "      <td>2.000000</td>\n",
       "      <td>120.000000</td>\n",
       "      <td>211.000000</td>\n",
       "      <td>0.000000</td>\n",
       "      <td>0.000000</td>\n",
       "      <td>133.000000</td>\n",
       "      <td>0.000000</td>\n",
       "      <td>0.000000</td>\n",
       "      <td>0.000000</td>\n",
       "      <td>0.000000</td>\n",
       "      <td>0.000000</td>\n",
       "      <td>0.000000</td>\n",
       "    </tr>\n",
       "    <tr>\n",
       "      <th>50%</th>\n",
       "      <td>56.000000</td>\n",
       "      <td>1.000000</td>\n",
       "      <td>2.000000</td>\n",
       "      <td>130.000000</td>\n",
       "      <td>243.000000</td>\n",
       "      <td>0.000000</td>\n",
       "      <td>1.000000</td>\n",
       "      <td>153.000000</td>\n",
       "      <td>0.000000</td>\n",
       "      <td>0.800000</td>\n",
       "      <td>1.000000</td>\n",
       "      <td>0.000000</td>\n",
       "      <td>0.000000</td>\n",
       "      <td>0.000000</td>\n",
       "    </tr>\n",
       "    <tr>\n",
       "      <th>75%</th>\n",
       "      <td>61.000000</td>\n",
       "      <td>1.000000</td>\n",
       "      <td>3.000000</td>\n",
       "      <td>140.000000</td>\n",
       "      <td>276.000000</td>\n",
       "      <td>0.000000</td>\n",
       "      <td>2.000000</td>\n",
       "      <td>166.000000</td>\n",
       "      <td>1.000000</td>\n",
       "      <td>1.600000</td>\n",
       "      <td>1.000000</td>\n",
       "      <td>1.000000</td>\n",
       "      <td>2.000000</td>\n",
       "      <td>1.000000</td>\n",
       "    </tr>\n",
       "    <tr>\n",
       "      <th>max</th>\n",
       "      <td>77.000000</td>\n",
       "      <td>1.000000</td>\n",
       "      <td>3.000000</td>\n",
       "      <td>200.000000</td>\n",
       "      <td>564.000000</td>\n",
       "      <td>1.000000</td>\n",
       "      <td>2.000000</td>\n",
       "      <td>202.000000</td>\n",
       "      <td>1.000000</td>\n",
       "      <td>6.200000</td>\n",
       "      <td>2.000000</td>\n",
       "      <td>3.000000</td>\n",
       "      <td>2.000000</td>\n",
       "      <td>1.000000</td>\n",
       "    </tr>\n",
       "  </tbody>\n",
       "</table>\n",
       "</div>"
      ],
      "text/plain": [
       "              age         sex          cp    trestbps        chol         fbs  \\\n",
       "count  297.000000  297.000000  297.000000  297.000000  297.000000  297.000000   \n",
       "mean    54.542088    0.676768    2.158249  131.693603  247.350168    0.144781   \n",
       "std      9.049736    0.468500    0.964859   17.762806   51.997583    0.352474   \n",
       "min     29.000000    0.000000    0.000000   94.000000  126.000000    0.000000   \n",
       "25%     48.000000    0.000000    2.000000  120.000000  211.000000    0.000000   \n",
       "50%     56.000000    1.000000    2.000000  130.000000  243.000000    0.000000   \n",
       "75%     61.000000    1.000000    3.000000  140.000000  276.000000    0.000000   \n",
       "max     77.000000    1.000000    3.000000  200.000000  564.000000    1.000000   \n",
       "\n",
       "          restecg     thalach       exang     oldpeak       slope          ca  \\\n",
       "count  297.000000  297.000000  297.000000  297.000000  297.000000  297.000000   \n",
       "mean     0.996633  149.599327    0.326599    1.055556    0.602694    0.676768   \n",
       "std      0.994914   22.941562    0.469761    1.166123    0.618187    0.938965   \n",
       "min      0.000000   71.000000    0.000000    0.000000    0.000000    0.000000   \n",
       "25%      0.000000  133.000000    0.000000    0.000000    0.000000    0.000000   \n",
       "50%      1.000000  153.000000    0.000000    0.800000    1.000000    0.000000   \n",
       "75%      2.000000  166.000000    1.000000    1.600000    1.000000    1.000000   \n",
       "max      2.000000  202.000000    1.000000    6.200000    2.000000    3.000000   \n",
       "\n",
       "             thal   condition  \n",
       "count  297.000000  297.000000  \n",
       "mean     0.835017    0.461279  \n",
       "std      0.956690    0.499340  \n",
       "min      0.000000    0.000000  \n",
       "25%      0.000000    0.000000  \n",
       "50%      0.000000    0.000000  \n",
       "75%      2.000000    1.000000  \n",
       "max      2.000000    1.000000  "
      ]
     },
     "execution_count": 7,
     "metadata": {},
     "output_type": "execute_result"
    }
   ],
   "source": [
    "#Descripcion de datos\n",
    "Database.describe()"
   ]
  },
  {
   "cell_type": "code",
   "execution_count": 9,
   "id": "50ff92a4-2a49-4173-9a28-68aec429503a",
   "metadata": {},
   "outputs": [
    {
     "data": {
      "text/plain": [
       "Text(0.5, 1.0, 'Identificación Datos atipicos y faltantes')"
      ]
     },
     "execution_count": 9,
     "metadata": {},
     "output_type": "execute_result"
    },
    {
     "data": {
      "image/png": "[encoded data removed]",
      "text/plain": [
       "<Figure size 800x200 with 1 Axes>"
      ]
     },
     "metadata": {},
     "output_type": "display_data"
    }
   ],
   "source": [
    "# Identificacion con valores atiicos y faltantes \n",
    "plt.figure(figsize=(8,2))\n",
    "sns.boxplot(x=Database['trestbps'])\n",
    "plt.title('Identificación Datos atipicos y faltantes', fontsize=12)"
   ]
  },
  {
   "cell_type": "code",
   "execution_count": 11,
   "id": "9892e58c-d525-41d1-9343-4eec12733d11",
   "metadata": {},
   "outputs": [
    {
     "data": {
      "text/plain": [
       "Text(0.5, 1.0, 'Identificación Datos atipicos y faltantes')"
      ]
     },
     "execution_count": 11,
     "metadata": {},
     "output_type": "execute_result"
    },
    {
     "data": {
      "image/png": "[encoded data removed]",
      "text/plain": [
       "<Figure size 500x200 with 1 Axes>"
      ]
     },
     "metadata": {},
     "output_type": "display_data"
    }
   ],
   "source": [
    "# Identificacion con valores aticos y faltantes \n",
    "plt.figure(figsize=(5,2))\n",
    "sns.boxplot(x=Database['chol'])\n",
    "plt.title('Identificación Datos atipicos y faltantes', fontsize=12)"
   ]
  },
  {
   "cell_type": "code",
   "execution_count": 13,
   "id": "f3ccc7e2-087e-4bd2-b8e7-2dc555d5049b",
   "metadata": {},
   "outputs": [
    {
     "data": {
      "text/plain": [
       "Text(0.5, 1.0, 'Identificación Datos atipicos y faltantes')"
      ]
     },
     "execution_count": 13,
     "metadata": {},
     "output_type": "execute_result"
    },
    {
     "data": {
      "image/png": "[encoded data removed]",
      "text/plain": [
       "<Figure size 800x200 with 1 Axes>"
      ]
     },
     "metadata": {},
     "output_type": "display_data"
    }
   ],
   "source": [
    "# Identificacion con valores aticos y faltantes \n",
    "plt.figure(figsize=(8,2))\n",
    "sns.boxplot(x=Database['oldpeak'])\n",
    "plt.title('Identificación Datos atipicos y faltantes', fontsize=12)"
   ]
  },
  {
   "cell_type": "code",
   "execution_count": 15,
   "id": "274bc54d-321b-404e-9c87-268f8566f0a6",
   "metadata": {},
   "outputs": [
    {
     "name": "stdout",
     "output_type": "stream",
     "text": [
      "Cantidad de Registros con cero en Edad:  0\n",
      "Cantidad de Registros con cero en la presion arterial en reposo:  0\n",
      "Cantidad de Registros con cero en el colesterol serico en mg/dl:  0\n",
      "Cantidad de Registros con cero en la frecuencia cardiaca:  0\n"
     ]
    }
   ],
   "source": [
    "#revision datos faltantes\n",
    "print(\"Cantidad de Registros con cero en Edad: \", Database[\"age\"].isin([0]).sum())\n",
    "print(\"Cantidad de Registros con cero en la presion arterial en reposo: \", Database[\"trestbps\"].isin([0]).sum())\n",
    "print(\"Cantidad de Registros con cero en el colesterol serico en mg/dl: \", Database[\"chol\"].isin([0]).sum())\n",
    "print(\"Cantidad de Registros con cero en la frecuencia cardiaca: \", Database[\"thalach\"].isin([0]).sum())"
   ]
  },
  {
   "cell_type": "code",
   "execution_count": 19,
   "id": "0de0c09f-d73e-4c9d-9fcb-7382e6624528",
   "metadata": {},
   "outputs": [
    {
     "data": {
      "text/plain": [
       "Text(0.5, 1.0, 'Identificación Datos atipicos')"
      ]
     },
     "execution_count": 19,
     "metadata": {},
     "output_type": "execute_result"
    },
    {
     "data": {
      "image/png": "[encoded data removed]",
      "text/plain": [
       "<Figure size 500x200 with 1 Axes>"
      ]
     },
     "metadata": {},
     "output_type": "display_data"
    }
   ],
   "source": [
    "# Identificacion con valores aticos  \n",
    "plt.figure(figsize=(5,2))\n",
    "sns.boxplot(x=Database['trestbps'])\n",
    "plt.title('Identificación Datos atipicos', fontsize=12)"
   ]
  },
  {
   "cell_type": "code",
   "execution_count": 21,
   "id": "b0dc17c5-3044-4fbc-945f-5d10da0306e5",
   "metadata": {},
   "outputs": [
    {
     "name": "stdout",
     "output_type": "stream",
     "text": [
      "El total de datos atípicos es 2\n"
     ]
    }
   ],
   "source": [
    "# definicion de niveles para considerar los datos atipicos \n",
    "nivel_minimo=80 \n",
    "nivel_maximo=180\n",
    "Total_Atipicos=((Database['trestbps'] < nivel_minimo) | (Database['trestbps'] > nivel_maximo)).sum()\n",
    "print(\"El total de datos atípicos es {}\".format(Total_Atipicos))"
   ]
  },
  {
   "cell_type": "code",
   "execution_count": 23,
   "id": "b93d2944-c886-46f8-ba94-4771e9c66a2e",
   "metadata": {},
   "outputs": [],
   "source": [
    "#Filtracion de los datos atipicos\n",
    "Database = Database[(Database['trestbps'] <= nivel_maximo) & (Database['trestbps'] >= nivel_minimo)]"
   ]
  },
  {
   "cell_type": "code",
   "execution_count": 25,
   "id": "b20cce67-e120-4530-bdb2-4d59c767dd82",
   "metadata": {},
   "outputs": [
    {
     "name": "stdout",
     "output_type": "stream",
     "text": [
      "El total de datos atípicos es 0\n"
     ]
    }
   ],
   "source": [
    "#Validación\n",
    "Total_Atipicos=((Database['trestbps'] < nivel_minimo) | (Database['trestbps'] > nivel_maximo)).sum()\n",
    "print(\"El total de datos atípicos es {}\".format(Total_Atipicos))"
   ]
  },
  {
   "cell_type": "code",
   "execution_count": 27,
   "id": "ceb6edf9-c038-4380-bb1b-00324a01a648",
   "metadata": {},
   "outputs": [
    {
     "name": "stdout",
     "output_type": "stream",
     "text": [
      "<class 'pandas.core.frame.DataFrame'>\n",
      "Index: 295 entries, 0 to 296\n",
      "Data columns (total 14 columns):\n",
      " #   Column     Non-Null Count  Dtype  \n",
      "---  ------     --------------  -----  \n",
      " 0   age        295 non-null    int64  \n",
      " 1   sex        295 non-null    int64  \n",
      " 2   cp         295 non-null    int64  \n",
      " 3   trestbps   295 non-null    int64  \n",
      " 4   chol       295 non-null    int64  \n",
      " 5   fbs        295 non-null    int64  \n",
      " 6   restecg    295 non-null    int64  \n",
      " 7   thalach    295 non-null    int64  \n",
      " 8   exang      295 non-null    int64  \n",
      " 9   oldpeak    295 non-null    float64\n",
      " 10  slope      295 non-null    int64  \n",
      " 11  ca         295 non-null    int64  \n",
      " 12  thal       295 non-null    int64  \n",
      " 13  condition  295 non-null    int64  \n",
      "dtypes: float64(1), int64(13)\n",
      "memory usage: 34.6 KB\n"
     ]
    }
   ],
   "source": [
    "#revision tipo de datos y datos faltantes \n",
    "Database.info()"
   ]
  },
  {
   "cell_type": "code",
   "execution_count": null,
   "id": "4c422df3-ac0d-4629-8b12-3565ce204511",
   "metadata": {},
   "outputs": [],
   "source": [
    "#Caracteristicas seleccionadas \n",
    "#Condicion o= perosnas sin enfermedad, 1=personas con enfermedad\n",
    "#Predecir si una persona tiene presencia de una enfermedad cardiaca"
   ]
  },
  {
   "cell_type": "code",
   "execution_count": 29,
   "id": "167e0243-643d-459b-a42c-7531611ffaef",
   "metadata": {},
   "outputs": [
    {
     "data": {
      "text/plain": [
       "condition\n",
       "0    160\n",
       "1    135\n",
       "Name: count, dtype: int64"
      ]
     },
     "execution_count": 29,
     "metadata": {},
     "output_type": "execute_result"
    }
   ],
   "source": [
    "#Total de personas con enfermedad cardiaca\n",
    "Database['condition'].value_counts()"
   ]
  },
  {
   "cell_type": "code",
   "execution_count": null,
   "id": "c73cae68-8793-4423-99c7-e05a5d549104",
   "metadata": {},
   "outputs": [],
   "source": [
    "#Division del dataser en train y test para evaluar el modelo de manera correcta"
   ]
  },
  {
   "cell_type": "code",
   "execution_count": 33,
   "id": "a581b65a-c547-4058-968b-5c8e27907b6d",
   "metadata": {},
   "outputs": [],
   "source": [
    "# Porcentaje de datos para entrenamiento (train) = 80%, y para pruebas (test) = 20%\n",
    "\n",
    "# Se crean variables X y Y para almacenar la información del entrenamiento\n",
    "\n",
    "X = Database.drop([\"condition\"], axis=1) # Se cargan los datos de train sin los datos de la columna c\n",
    "Y = Database[\"condition\"] # Se cargan los datos de la columna Diabetico\n",
    "\n",
    "# La función train_test_split crea una división de un conjunto de datos en dos bloques: uno de entrenamiento y otro de prueba (train y test)\n",
    "X_train, X_test, Y_train, Y_test = train_test_split(X, Y, test_size=0.20, stratify=Y, random_state=0)"
   ]
  },
  {
   "cell_type": "code",
   "execution_count": 35,
   "id": "695fb558-9a9f-41b8-ac90-149784509d7c",
   "metadata": {},
   "outputs": [
    {
     "name": "stdout",
     "output_type": "stream",
     "text": [
      "     age  sex  cp  trestbps  chol  fbs  restecg  thalach  exang  oldpeak  \\\n",
      "71    29    1   1       130   204    0        2      202      0      0.0   \n",
      "187   62    1   3       120   267    0        0       99      1      1.8   \n",
      "141   44    1   2       120   226    0        0      169      0      0.0   \n",
      "65    41    0   1       105   198    0        0      168      0      0.0   \n",
      "75    69    1   2       140   254    0        2      146      0      2.0   \n",
      "..   ...  ...  ..       ...   ...  ...      ...      ...    ...      ...   \n",
      "174   64    1   3       120   246    0        2       96      1      2.2   \n",
      "190   62    0   3       150   244    0        0      154      1      1.4   \n",
      "135   46    0   2       142   177    0        2      160      1      1.4   \n",
      "128   49    1   2       120   188    0        0      139      0      2.0   \n",
      "217   58    1   3       146   218    0        0      105      0      2.0   \n",
      "\n",
      "     slope  ca  thal  \n",
      "71       0   0     0  \n",
      "187      1   2     2  \n",
      "141      0   0     0  \n",
      "65       0   1     0  \n",
      "75       1   3     2  \n",
      "..     ...  ..   ...  \n",
      "174      2   1     0  \n",
      "190      1   0     0  \n",
      "135      2   0     0  \n",
      "128      1   3     2  \n",
      "217      1   1     2  \n",
      "\n",
      "[236 rows x 13 columns]\n"
     ]
    }
   ],
   "source": [
    "print(X_train)"
   ]
  },
  {
   "cell_type": "code",
   "execution_count": 37,
   "id": "6d2c5d02-f972-4c07-be17-b64fe8e2f5e6",
   "metadata": {},
   "outputs": [
    {
     "name": "stdout",
     "output_type": "stream",
     "text": [
      "71     0\n",
      "187    1\n",
      "141    0\n",
      "65     0\n",
      "75     1\n",
      "      ..\n",
      "174    1\n",
      "190    1\n",
      "135    0\n",
      "128    1\n",
      "217    1\n",
      "Name: condition, Length: 236, dtype: int64\n"
     ]
    }
   ],
   "source": [
    "print(Y_train)"
   ]
  },
  {
   "cell_type": "code",
   "execution_count": 39,
   "id": "12651367-8768-4c37-aaea-7cc8709a6f86",
   "metadata": {},
   "outputs": [],
   "source": [
    "# Construir el modelo de regresión logística\n",
    "modelo_regresionlog = LogisticRegression(solver=\"liblinear\")\n",
    "\n",
    "# Entrenar el modelo con los datos de entrenamiento\n",
    "modelo_regresionlog.fit(X_train, Y_train)  \n",
    "\n",
    "# Crear el modelo de predicción\n",
    "prediccion = modelo_regresionlog.predict(X_test)"
   ]
  },
  {
   "cell_type": "code",
   "execution_count": 41,
   "id": "a8d46775-92ac-41e6-90f3-8d3c032acdb9",
   "metadata": {},
   "outputs": [
    {
     "name": "stdout",
     "output_type": "stream",
     "text": [
      "272    0\n",
      "33     1\n",
      "219    1\n",
      "116    0\n",
      "63     0\n",
      "203    1\n",
      "279    1\n",
      "184    1\n",
      "202    1\n",
      "246    1\n",
      "199    1\n",
      "218    0\n",
      "77     0\n",
      "55     0\n",
      "271    0\n",
      "94     0\n",
      "51     0\n",
      "249    0\n",
      "98     1\n",
      "131    0\n",
      "170    1\n",
      "133    1\n",
      "111    0\n",
      "186    1\n",
      "285    0\n",
      "237    1\n",
      "267    1\n",
      "280    1\n",
      "258    1\n",
      "89     0\n",
      "177    0\n",
      "117    0\n",
      "14     0\n",
      "105    0\n",
      "7      1\n",
      "46     0\n",
      "148    0\n",
      "137    0\n",
      "80     1\n",
      "276    0\n",
      "274    1\n",
      "269    1\n",
      "163    1\n",
      "47     0\n",
      "151    0\n",
      "43     0\n",
      "97     0\n",
      "149    0\n",
      "108    0\n",
      "42     0\n",
      "161    1\n",
      "213    1\n",
      "110    0\n",
      "164    1\n",
      "235    1\n",
      "35     1\n",
      "30     0\n",
      "225    1\n",
      "39     0\n",
      "Name: condition, dtype: int64\n"
     ]
    }
   ],
   "source": [
    "# Verificar los resultados reales del conjunto de prueba\n",
    "print(Y_test)"
   ]
  },
  {
   "cell_type": "code",
   "execution_count": 43,
   "id": "fce7b10b-0ecf-4838-9561-b7da5ceca114",
   "metadata": {},
   "outputs": [
    {
     "name": "stdout",
     "output_type": "stream",
     "text": [
      "[0 0 1 0 0 1 1 1 1 1 1 0 0 0 0 0 0 0 1 0 1 0 1 1 0 1 1 0 1 0 1 0 0 0 0 0 0\n",
      " 0 1 0 1 1 1 0 0 0 0 0 1 0 1 1 0 1 1 0 0 1 0]\n"
     ]
    }
   ],
   "source": [
    "print(prediccion)"
   ]
  },
  {
   "cell_type": "code",
   "execution_count": null,
   "id": "83f21de0-01f2-4b28-8af3-ac0b63a5d4d0",
   "metadata": {},
   "outputs": [],
   "source": [
    "# Desempeño modelo"
   ]
  },
  {
   "cell_type": "code",
   "execution_count": 45,
   "id": "54491722-f003-4e14-b96a-c75a7d194242",
   "metadata": {},
   "outputs": [
    {
     "name": "stdout",
     "output_type": "stream",
     "text": [
      "              precision    recall  f1-score   support\n",
      "\n",
      "           0       0.85      0.91      0.88        32\n",
      "           1       0.88      0.81      0.85        27\n",
      "\n",
      "    accuracy                           0.86        59\n",
      "   macro avg       0.87      0.86      0.86        59\n",
      "weighted avg       0.87      0.86      0.86        59\n",
      "\n"
     ]
    }
   ],
   "source": [
    "print(classification_report(Y_test,prediccion))"
   ]
  },
  {
   "cell_type": "code",
   "execution_count": null,
   "id": "1d9c95c9-3c45-41a8-9205-b87c6aa2a0e3",
   "metadata": {},
   "outputs": [],
   "source": [
    "#Graficas"
   ]
  },
  {
   "cell_type": "code",
   "execution_count": 47,
   "id": "4e640574-d52a-4af5-8b13-7a48d00af264",
   "metadata": {},
   "outputs": [
    {
     "data": {
      "text/plain": [
       "<sklearn.metrics._plot.confusion_matrix.ConfusionMatrixDisplay at 0x245ff835ac0>"
      ]
     },
     "execution_count": 47,
     "metadata": {},
     "output_type": "execute_result"
    },
    {
     "data": {
      "image/png": "[encoded data removed]",
      "text/plain": [
       "<Figure size 640x480 with 2 Axes>"
      ]
     },
     "metadata": {},
     "output_type": "display_data"
    }
   ],
   "source": [
    "#Matrix de confusion\n",
    "cm=confusion_matrix(Y_test,prediccion)\n",
    "disp=metrics.ConfusionMatrixDisplay(confusion_matrix=cm)\n",
    "disp.plot()"
   ]
  },
  {
   "cell_type": "code",
   "execution_count": 49,
   "id": "17c9bcf4-8d7a-47e0-a7ce-b2660c761908",
   "metadata": {},
   "outputs": [
    {
     "data": {
      "image/png": "[encoded data removed]",
      "text/plain": [
       "<Figure size 640x480 with 1 Axes>"
      ]
     },
     "metadata": {},
     "output_type": "display_data"
    }
   ],
   "source": [
    "#Curva de precision \n",
    "from sklearn.metrics import RocCurveDisplay\n",
    "RocCurveDisplay.from_predictions(Y_test,prediccion)\n",
    "plt.show()"
   ]
  },
  {
   "cell_type": "code",
   "execution_count": null,
   "id": "8eecbb96-71f7-476b-9b69-fe76432b0595",
   "metadata": {},
   "outputs": [],
   "source": []
  }
 ],
 "metadata": {
  "kernelspec": {
   "display_name": "Python 3 (ipykernel)",
   "language": "python",
   "name": "python3"
  },
  "language_info": {
   "codemirror_mode": {
    "name": "ipython",
    "version": 3
   },
   "file_extension": ".py",
   "mimetype": "text/x-python",
   "name": "python",
   "nbconvert_exporter": "python",
   "pygments_lexer": "ipython3",
   "version": "3.12.7"
  }
 },
 "nbformat": 4,
 "nbformat_minor": 5
}
